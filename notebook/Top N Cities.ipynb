{
 "cells": [
  {
   "cell_type": "markdown",
   "id": "fe5ebeac",
   "metadata": {},
   "source": [
    "# Top N Cities\n",
    "In this notebook, we will determine the top 3 cities with the highest crime in Ontario, Quebec and Manitoba. The results from this notebook will be used in PowerQuery to filter the dataset."
   ]
  },
  {
   "cell_type": "code",
   "execution_count": 77,
   "id": "573ed3b0",
   "metadata": {},
   "outputs": [],
   "source": [
    "# Load Libraries\n",
    "import pandas as pd\n",
    "import pathlib, os\n",
    "import time\n",
    "import warnings"
   ]
  },
  {
   "cell_type": "code",
   "execution_count": 78,
   "id": "62264bf8",
   "metadata": {},
   "outputs": [],
   "source": [
    "warnings.filterwarnings(\"ignore\")"
   ]
  },
  {
   "cell_type": "code",
   "execution_count": 6,
   "id": "8bf0a131",
   "metadata": {},
   "outputs": [],
   "source": [
    "data_dir = \"../data/full-dataset\"\n",
    "quebec_code = \"35100179\"\n",
    "ontario_code = \"35100180\"\n",
    "manitoba_code = \"35100181\"\n",
    "\n",
    "dir_ext = \"-eng\"\n",
    "file_ext = \".csv\"\n",
    "\n",
    "location_dict = {\n",
    "    \"quebec\": os.path.join(data_dir, (quebec_code + dir_ext), (quebec_code + file_ext)),\n",
    "    \"ontario\": os.path.join(data_dir, (ontario_code + dir_ext), (ontario_code + file_ext)),\n",
    "    \"manitoba\": os.path.join(data_dir, (manitoba_code + dir_ext), (manitoba_code + file_ext))\n",
    "}"
   ]
  },
  {
   "cell_type": "code",
   "execution_count": 9,
   "id": "e130e433",
   "metadata": {},
   "outputs": [
    {
     "name": "stdout",
     "output_type": "stream",
     "text": [
      "Quebec dataset located successfully.\n",
      "Ontario dataset located successfully.\n",
      "Manitoba dataset located successfully.\n"
     ]
    }
   ],
   "source": [
    "for province, path in location_dict.items():\n",
    "    if pathlib.Path(path).exists():\n",
    "        print(f\"{province.capitalize()} dataset located successfully.\")\n",
    "    else:\n",
    "        print(f\"Data file for {province.capitalize()} province not located!!!\")"
   ]
  },
  {
   "cell_type": "markdown",
   "id": "8d92a577",
   "metadata": {},
   "source": [
    "## Top 3 Cities in Quebec"
   ]
  },
  {
   "cell_type": "code",
   "execution_count": 13,
   "id": "86bc9493",
   "metadata": {},
   "outputs": [],
   "source": [
    "path = location_dict[\"quebec\"]\n",
    "\n",
    "fields = [\"REF_DATE\", \"GEO\", \"Violations\", \"Statistics\", \"VALUE\"]\n",
    "\n",
    "chunksize = 10 ** 3\n",
    "\n",
    "iter_csv = pd.read_csv(path, skipinitialspace=True, usecols=fields, chunksize=chunksize)\n",
    "df = pd.concat([chunk[chunk[\"REF_DATE\"] > 2008] for chunk in iter_csv])"
   ]
  },
  {
   "cell_type": "code",
   "execution_count": 14,
   "id": "5fcfd41b",
   "metadata": {},
   "outputs": [
    {
     "data": {
      "text/html": [
       "<div>\n",
       "<style scoped>\n",
       "    .dataframe tbody tr th:only-of-type {\n",
       "        vertical-align: middle;\n",
       "    }\n",
       "\n",
       "    .dataframe tbody tr th {\n",
       "        vertical-align: top;\n",
       "    }\n",
       "\n",
       "    .dataframe thead th {\n",
       "        text-align: right;\n",
       "    }\n",
       "</style>\n",
       "<table border=\"1\" class=\"dataframe\">\n",
       "  <thead>\n",
       "    <tr style=\"text-align: right;\">\n",
       "      <th></th>\n",
       "      <th>REF_DATE</th>\n",
       "      <th>GEO</th>\n",
       "      <th>Violations</th>\n",
       "      <th>Statistics</th>\n",
       "      <th>VALUE</th>\n",
       "    </tr>\n",
       "  </thead>\n",
       "  <tbody>\n",
       "    <tr>\n",
       "      <th>9661400</th>\n",
       "      <td>2009</td>\n",
       "      <td>Quebec [24]</td>\n",
       "      <td>Total, all violations [0]</td>\n",
       "      <td>Actual incidents</td>\n",
       "      <td>457412.00</td>\n",
       "    </tr>\n",
       "    <tr>\n",
       "      <th>9661401</th>\n",
       "      <td>2009</td>\n",
       "      <td>Quebec [24]</td>\n",
       "      <td>Total, all violations [0]</td>\n",
       "      <td>Rate per 100,000 population</td>\n",
       "      <td>5831.75</td>\n",
       "    </tr>\n",
       "    <tr>\n",
       "      <th>9661402</th>\n",
       "      <td>2009</td>\n",
       "      <td>Quebec [24]</td>\n",
       "      <td>Total, all violations [0]</td>\n",
       "      <td>Percentage change in rate</td>\n",
       "      <td>-1.85</td>\n",
       "    </tr>\n",
       "    <tr>\n",
       "      <th>9661403</th>\n",
       "      <td>2009</td>\n",
       "      <td>Quebec [24]</td>\n",
       "      <td>Total, all violations [0]</td>\n",
       "      <td>Total cleared</td>\n",
       "      <td>195894.00</td>\n",
       "    </tr>\n",
       "    <tr>\n",
       "      <th>9661404</th>\n",
       "      <td>2009</td>\n",
       "      <td>Quebec [24]</td>\n",
       "      <td>Total, all violations [0]</td>\n",
       "      <td>Cleared by charge</td>\n",
       "      <td>133758.00</td>\n",
       "    </tr>\n",
       "  </tbody>\n",
       "</table>\n",
       "</div>"
      ],
      "text/plain": [
       "         REF_DATE          GEO                 Violations  \\\n",
       "9661400      2009  Quebec [24]  Total, all violations [0]   \n",
       "9661401      2009  Quebec [24]  Total, all violations [0]   \n",
       "9661402      2009  Quebec [24]  Total, all violations [0]   \n",
       "9661403      2009  Quebec [24]  Total, all violations [0]   \n",
       "9661404      2009  Quebec [24]  Total, all violations [0]   \n",
       "\n",
       "                          Statistics      VALUE  \n",
       "9661400             Actual incidents  457412.00  \n",
       "9661401  Rate per 100,000 population    5831.75  \n",
       "9661402    Percentage change in rate      -1.85  \n",
       "9661403                Total cleared  195894.00  \n",
       "9661404            Cleared by charge  133758.00  "
      ]
     },
     "execution_count": 14,
     "metadata": {},
     "output_type": "execute_result"
    }
   ],
   "source": [
    "df.head()"
   ]
  },
  {
   "cell_type": "code",
   "execution_count": 15,
   "id": "26d78b8c",
   "metadata": {},
   "outputs": [
    {
     "name": "stdout",
     "output_type": "stream",
     "text": [
      "<class 'pandas.core.frame.DataFrame'>\n",
      "Int64Index: 17168868 entries, 9661400 to 26830267\n",
      "Data columns (total 5 columns):\n",
      " #   Column      Dtype  \n",
      "---  ------      -----  \n",
      " 0   REF_DATE    int64  \n",
      " 1   GEO         object \n",
      " 2   Violations  object \n",
      " 3   Statistics  object \n",
      " 4   VALUE       float64\n",
      "dtypes: float64(1), int64(1), object(3)\n",
      "memory usage: 785.9+ MB\n"
     ]
    }
   ],
   "source": [
    "df.info()"
   ]
  },
  {
   "cell_type": "code",
   "execution_count": 16,
   "id": "ef1d2483",
   "metadata": {},
   "outputs": [
    {
     "data": {
      "text/html": [
       "<div>\n",
       "<style scoped>\n",
       "    .dataframe tbody tr th:only-of-type {\n",
       "        vertical-align: middle;\n",
       "    }\n",
       "\n",
       "    .dataframe tbody tr th {\n",
       "        vertical-align: top;\n",
       "    }\n",
       "\n",
       "    .dataframe thead th {\n",
       "        text-align: right;\n",
       "    }\n",
       "</style>\n",
       "<table border=\"1\" class=\"dataframe\">\n",
       "  <thead>\n",
       "    <tr style=\"text-align: right;\">\n",
       "      <th></th>\n",
       "      <th>REF_DATE</th>\n",
       "      <th>VALUE</th>\n",
       "    </tr>\n",
       "  </thead>\n",
       "  <tbody>\n",
       "    <tr>\n",
       "      <th>count</th>\n",
       "      <td>1.716887e+07</td>\n",
       "      <td>5.844667e+06</td>\n",
       "    </tr>\n",
       "    <tr>\n",
       "      <th>mean</th>\n",
       "      <td>2.014317e+03</td>\n",
       "      <td>4.086741e+01</td>\n",
       "    </tr>\n",
       "    <tr>\n",
       "      <th>std</th>\n",
       "      <td>3.025900e+00</td>\n",
       "      <td>1.217668e+03</td>\n",
       "    </tr>\n",
       "    <tr>\n",
       "      <th>min</th>\n",
       "      <td>2.009000e+03</td>\n",
       "      <td>-1.000000e+02</td>\n",
       "    </tr>\n",
       "    <tr>\n",
       "      <th>25%</th>\n",
       "      <td>2.012000e+03</td>\n",
       "      <td>0.000000e+00</td>\n",
       "    </tr>\n",
       "    <tr>\n",
       "      <th>50%</th>\n",
       "      <td>2.014000e+03</td>\n",
       "      <td>0.000000e+00</td>\n",
       "    </tr>\n",
       "    <tr>\n",
       "      <th>75%</th>\n",
       "      <td>2.017000e+03</td>\n",
       "      <td>0.000000e+00</td>\n",
       "    </tr>\n",
       "    <tr>\n",
       "      <th>max</th>\n",
       "      <td>2.019000e+03</td>\n",
       "      <td>4.574120e+05</td>\n",
       "    </tr>\n",
       "  </tbody>\n",
       "</table>\n",
       "</div>"
      ],
      "text/plain": [
       "           REF_DATE         VALUE\n",
       "count  1.716887e+07  5.844667e+06\n",
       "mean   2.014317e+03  4.086741e+01\n",
       "std    3.025900e+00  1.217668e+03\n",
       "min    2.009000e+03 -1.000000e+02\n",
       "25%    2.012000e+03  0.000000e+00\n",
       "50%    2.014000e+03  0.000000e+00\n",
       "75%    2.017000e+03  0.000000e+00\n",
       "max    2.019000e+03  4.574120e+05"
      ]
     },
     "execution_count": 16,
     "metadata": {},
     "output_type": "execute_result"
    }
   ],
   "source": [
    "df.describe()"
   ]
  },
  {
   "cell_type": "code",
   "execution_count": 18,
   "id": "b17f07f4",
   "metadata": {},
   "outputs": [
    {
     "data": {
      "text/plain": [
       "Proceeds of crime (Part XII.2 Criminal Code) [3825]                                                                       57908\n",
       "Causing bodily harm by criminal negligence while street racing [9420]                                                     57908\n",
       "Income Tax Act [6150]                                                                                                     57908\n",
       "Invasion of privacy (Part VI Criminal Code) [3750]                                                                        57908\n",
       "Possession of weapons [3375]                                                                                              57908\n",
       "                                                                                                                          ...  \n",
       "Possess, produce, sell, distribute or import anything for use in production or distribution of illicit cannabis [4961]    48528\n",
       "Failure or refusal to comply with demand, accident resulting in bodily harm (drugs) [9275]                                48528\n",
       "Sexual offence which occurred prior to January 4, 1983 [1300]                                                             16176\n",
       "Parent or guardian procuring sexual activity: person procured under the age of 16 years [3165]                            14140\n",
       "Householder permitting illegal sexual activity: person under the age of 16 years [3167]                                   14140\n",
       "Name: Violations, Length: 312, dtype: int64"
      ]
     },
     "execution_count": 18,
     "metadata": {},
     "output_type": "execute_result"
    }
   ],
   "source": [
    "df[\"Violations\"].value_counts()"
   ]
  },
  {
   "cell_type": "code",
   "execution_count": 42,
   "id": "53cff715",
   "metadata": {},
   "outputs": [
    {
     "data": {
      "text/html": [
       "<div>\n",
       "<style scoped>\n",
       "    .dataframe tbody tr th:only-of-type {\n",
       "        vertical-align: middle;\n",
       "    }\n",
       "\n",
       "    .dataframe tbody tr th {\n",
       "        vertical-align: top;\n",
       "    }\n",
       "\n",
       "    .dataframe thead th {\n",
       "        text-align: right;\n",
       "    }\n",
       "</style>\n",
       "<table border=\"1\" class=\"dataframe\">\n",
       "  <thead>\n",
       "    <tr style=\"text-align: right;\">\n",
       "      <th></th>\n",
       "      <th>REF_DATE</th>\n",
       "      <th>GEO</th>\n",
       "      <th>Violations</th>\n",
       "      <th>Statistics</th>\n",
       "      <th>VALUE</th>\n",
       "    </tr>\n",
       "  </thead>\n",
       "  <tbody>\n",
       "    <tr>\n",
       "      <th>9661442</th>\n",
       "      <td>2009</td>\n",
       "      <td>Quebec [24]</td>\n",
       "      <td>Total violent Criminal Code violations [100]</td>\n",
       "      <td>Actual incidents</td>\n",
       "      <td>85301.00</td>\n",
       "    </tr>\n",
       "    <tr>\n",
       "      <th>9661443</th>\n",
       "      <td>2009</td>\n",
       "      <td>Quebec [24]</td>\n",
       "      <td>Total violent Criminal Code violations [100]</td>\n",
       "      <td>Rate per 100,000 population</td>\n",
       "      <td>1087.54</td>\n",
       "    </tr>\n",
       "    <tr>\n",
       "      <th>9661444</th>\n",
       "      <td>2009</td>\n",
       "      <td>Quebec [24]</td>\n",
       "      <td>Total violent Criminal Code violations [100]</td>\n",
       "      <td>Percentage change in rate</td>\n",
       "      <td>0.01</td>\n",
       "    </tr>\n",
       "    <tr>\n",
       "      <th>9661445</th>\n",
       "      <td>2009</td>\n",
       "      <td>Quebec [24]</td>\n",
       "      <td>Total violent Criminal Code violations [100]</td>\n",
       "      <td>Total cleared</td>\n",
       "      <td>66205.00</td>\n",
       "    </tr>\n",
       "    <tr>\n",
       "      <th>9661446</th>\n",
       "      <td>2009</td>\n",
       "      <td>Quebec [24]</td>\n",
       "      <td>Total violent Criminal Code violations [100]</td>\n",
       "      <td>Cleared by charge</td>\n",
       "      <td>39250.00</td>\n",
       "    </tr>\n",
       "  </tbody>\n",
       "</table>\n",
       "</div>"
      ],
      "text/plain": [
       "         REF_DATE          GEO                                    Violations  \\\n",
       "9661442      2009  Quebec [24]  Total violent Criminal Code violations [100]   \n",
       "9661443      2009  Quebec [24]  Total violent Criminal Code violations [100]   \n",
       "9661444      2009  Quebec [24]  Total violent Criminal Code violations [100]   \n",
       "9661445      2009  Quebec [24]  Total violent Criminal Code violations [100]   \n",
       "9661446      2009  Quebec [24]  Total violent Criminal Code violations [100]   \n",
       "\n",
       "                          Statistics     VALUE  \n",
       "9661442             Actual incidents  85301.00  \n",
       "9661443  Rate per 100,000 population   1087.54  \n",
       "9661444    Percentage change in rate      0.01  \n",
       "9661445                Total cleared  66205.00  \n",
       "9661446            Cleared by charge  39250.00  "
      ]
     },
     "execution_count": 42,
     "metadata": {},
     "output_type": "execute_result"
    }
   ],
   "source": [
    "# Filter criminal violations\n",
    "df2 = df[df[\"Violations\"] == \"Total violent Criminal Code violations [100]\"]\n",
    "df2.head()"
   ]
  },
  {
   "cell_type": "code",
   "execution_count": 43,
   "id": "0639d9f0",
   "metadata": {},
   "outputs": [
    {
     "data": {
      "text/plain": [
       "Mercier, Quebec, municipal [24170]                                                    172\n",
       "Lac-Saint-Jean-Est Region, Quebec, Quebec Provincial Police [24597]                   172\n",
       "Lac-Rapide, Quebec, municipal [24274]                                                 172\n",
       "Drummondville, Quebec, municipal [24084]                                              172\n",
       "Témiscouata Region, Quebec, Quebec Provincial Police [24619]                          172\n",
       "                                                                                     ... \n",
       "Montréal (Headquarters 1), Quebec, Quebec Provincial Police [24500]                   172\n",
       "Haut-Richelieu Region, Quebec, Quebec Provincial Police [24512]                       172\n",
       "Matapedia, Quebec, Quebec Provincial Police [24636]                                   172\n",
       "Mercier, Quebec, municipal [24232]                                                    144\n",
       "Westmount (Division Headquarters 1), Quebec, Royal Canadian Mounted Police [24717]    144\n",
       "Name: GEO, Length: 337, dtype: int64"
      ]
     },
     "execution_count": 43,
     "metadata": {},
     "output_type": "execute_result"
    }
   ],
   "source": [
    "df2[\"GEO\"].value_counts()"
   ]
  },
  {
   "cell_type": "code",
   "execution_count": 44,
   "id": "6f313004",
   "metadata": {},
   "outputs": [
    {
     "name": "stderr",
     "output_type": "stream",
     "text": [
      "C:\\Users\\Raj007\\anaconda3\\envs\\data-visualization\\lib\\site-packages\\pandas\\core\\frame.py:3191: SettingWithCopyWarning: \n",
      "A value is trying to be set on a copy of a slice from a DataFrame.\n",
      "Try using .loc[row_indexer,col_indexer] = value instead\n",
      "\n",
      "See the caveats in the documentation: https://pandas.pydata.org/pandas-docs/stable/user_guide/indexing.html#returning-a-view-versus-a-copy\n",
      "  self[k1] = value[k2]\n"
     ]
    }
   ],
   "source": [
    "df2[[\"City\", \"Province\"]] = df2[\"GEO\"].str.split(',', expand=True).drop([2, 3], axis=1)"
   ]
  },
  {
   "cell_type": "code",
   "execution_count": 45,
   "id": "b06a7216",
   "metadata": {},
   "outputs": [
    {
     "data": {
      "text/html": [
       "<div>\n",
       "<style scoped>\n",
       "    .dataframe tbody tr th:only-of-type {\n",
       "        vertical-align: middle;\n",
       "    }\n",
       "\n",
       "    .dataframe tbody tr th {\n",
       "        vertical-align: top;\n",
       "    }\n",
       "\n",
       "    .dataframe thead th {\n",
       "        text-align: right;\n",
       "    }\n",
       "</style>\n",
       "<table border=\"1\" class=\"dataframe\">\n",
       "  <thead>\n",
       "    <tr style=\"text-align: right;\">\n",
       "      <th></th>\n",
       "      <th>REF_DATE</th>\n",
       "      <th>GEO</th>\n",
       "      <th>Violations</th>\n",
       "      <th>Statistics</th>\n",
       "      <th>VALUE</th>\n",
       "      <th>City</th>\n",
       "      <th>Province</th>\n",
       "    </tr>\n",
       "  </thead>\n",
       "  <tbody>\n",
       "    <tr>\n",
       "      <th>9661442</th>\n",
       "      <td>2009</td>\n",
       "      <td>Quebec [24]</td>\n",
       "      <td>Total violent Criminal Code violations [100]</td>\n",
       "      <td>Actual incidents</td>\n",
       "      <td>85301.00</td>\n",
       "      <td>Quebec [24]</td>\n",
       "      <td>None</td>\n",
       "    </tr>\n",
       "    <tr>\n",
       "      <th>9661443</th>\n",
       "      <td>2009</td>\n",
       "      <td>Quebec [24]</td>\n",
       "      <td>Total violent Criminal Code violations [100]</td>\n",
       "      <td>Rate per 100,000 population</td>\n",
       "      <td>1087.54</td>\n",
       "      <td>Quebec [24]</td>\n",
       "      <td>None</td>\n",
       "    </tr>\n",
       "    <tr>\n",
       "      <th>9661444</th>\n",
       "      <td>2009</td>\n",
       "      <td>Quebec [24]</td>\n",
       "      <td>Total violent Criminal Code violations [100]</td>\n",
       "      <td>Percentage change in rate</td>\n",
       "      <td>0.01</td>\n",
       "      <td>Quebec [24]</td>\n",
       "      <td>None</td>\n",
       "    </tr>\n",
       "    <tr>\n",
       "      <th>9661445</th>\n",
       "      <td>2009</td>\n",
       "      <td>Quebec [24]</td>\n",
       "      <td>Total violent Criminal Code violations [100]</td>\n",
       "      <td>Total cleared</td>\n",
       "      <td>66205.00</td>\n",
       "      <td>Quebec [24]</td>\n",
       "      <td>None</td>\n",
       "    </tr>\n",
       "    <tr>\n",
       "      <th>9661446</th>\n",
       "      <td>2009</td>\n",
       "      <td>Quebec [24]</td>\n",
       "      <td>Total violent Criminal Code violations [100]</td>\n",
       "      <td>Cleared by charge</td>\n",
       "      <td>39250.00</td>\n",
       "      <td>Quebec [24]</td>\n",
       "      <td>None</td>\n",
       "    </tr>\n",
       "  </tbody>\n",
       "</table>\n",
       "</div>"
      ],
      "text/plain": [
       "         REF_DATE          GEO                                    Violations  \\\n",
       "9661442      2009  Quebec [24]  Total violent Criminal Code violations [100]   \n",
       "9661443      2009  Quebec [24]  Total violent Criminal Code violations [100]   \n",
       "9661444      2009  Quebec [24]  Total violent Criminal Code violations [100]   \n",
       "9661445      2009  Quebec [24]  Total violent Criminal Code violations [100]   \n",
       "9661446      2009  Quebec [24]  Total violent Criminal Code violations [100]   \n",
       "\n",
       "                          Statistics     VALUE         City Province  \n",
       "9661442             Actual incidents  85301.00  Quebec [24]     None  \n",
       "9661443  Rate per 100,000 population   1087.54  Quebec [24]     None  \n",
       "9661444    Percentage change in rate      0.01  Quebec [24]     None  \n",
       "9661445                Total cleared  66205.00  Quebec [24]     None  \n",
       "9661446            Cleared by charge  39250.00  Quebec [24]     None  "
      ]
     },
     "execution_count": 45,
     "metadata": {},
     "output_type": "execute_result"
    }
   ],
   "source": [
    "df2.head()"
   ]
  },
  {
   "cell_type": "code",
   "execution_count": 48,
   "id": "6f888040",
   "metadata": {},
   "outputs": [
    {
     "data": {
      "text/html": [
       "<div>\n",
       "<style scoped>\n",
       "    .dataframe tbody tr th:only-of-type {\n",
       "        vertical-align: middle;\n",
       "    }\n",
       "\n",
       "    .dataframe tbody tr th {\n",
       "        vertical-align: top;\n",
       "    }\n",
       "\n",
       "    .dataframe thead th {\n",
       "        text-align: right;\n",
       "    }\n",
       "</style>\n",
       "<table border=\"1\" class=\"dataframe\">\n",
       "  <thead>\n",
       "    <tr style=\"text-align: right;\">\n",
       "      <th></th>\n",
       "      <th>REF_DATE</th>\n",
       "      <th>Violations</th>\n",
       "      <th>Statistics</th>\n",
       "      <th>VALUE</th>\n",
       "      <th>City</th>\n",
       "      <th>Province</th>\n",
       "    </tr>\n",
       "  </thead>\n",
       "  <tbody>\n",
       "    <tr>\n",
       "      <th>26825367</th>\n",
       "      <td>2019</td>\n",
       "      <td>Total violent Criminal Code violations [100]</td>\n",
       "      <td>Rate, adult charged per 100,000 population age...</td>\n",
       "      <td>NaN</td>\n",
       "      <td>Canadian Pacific Railway Police</td>\n",
       "      <td>Quebec [24991]</td>\n",
       "    </tr>\n",
       "    <tr>\n",
       "      <th>26825368</th>\n",
       "      <td>2019</td>\n",
       "      <td>Total violent Criminal Code violations [100]</td>\n",
       "      <td>Total, youth charged</td>\n",
       "      <td>0.0</td>\n",
       "      <td>Canadian Pacific Railway Police</td>\n",
       "      <td>Quebec [24991]</td>\n",
       "    </tr>\n",
       "    <tr>\n",
       "      <th>26825369</th>\n",
       "      <td>2019</td>\n",
       "      <td>Total violent Criminal Code violations [100]</td>\n",
       "      <td>Rate, youth charged per 100,000 population age...</td>\n",
       "      <td>NaN</td>\n",
       "      <td>Canadian Pacific Railway Police</td>\n",
       "      <td>Quebec [24991]</td>\n",
       "    </tr>\n",
       "    <tr>\n",
       "      <th>26825370</th>\n",
       "      <td>2019</td>\n",
       "      <td>Total violent Criminal Code violations [100]</td>\n",
       "      <td>Total, youth not charged</td>\n",
       "      <td>0.0</td>\n",
       "      <td>Canadian Pacific Railway Police</td>\n",
       "      <td>Quebec [24991]</td>\n",
       "    </tr>\n",
       "    <tr>\n",
       "      <th>26825371</th>\n",
       "      <td>2019</td>\n",
       "      <td>Total violent Criminal Code violations [100]</td>\n",
       "      <td>Rate, youth not charged per 100,000 population...</td>\n",
       "      <td>NaN</td>\n",
       "      <td>Canadian Pacific Railway Police</td>\n",
       "      <td>Quebec [24991]</td>\n",
       "    </tr>\n",
       "  </tbody>\n",
       "</table>\n",
       "</div>"
      ],
      "text/plain": [
       "          REF_DATE                                    Violations  \\\n",
       "26825367      2019  Total violent Criminal Code violations [100]   \n",
       "26825368      2019  Total violent Criminal Code violations [100]   \n",
       "26825369      2019  Total violent Criminal Code violations [100]   \n",
       "26825370      2019  Total violent Criminal Code violations [100]   \n",
       "26825371      2019  Total violent Criminal Code violations [100]   \n",
       "\n",
       "                                                 Statistics  VALUE  \\\n",
       "26825367  Rate, adult charged per 100,000 population age...    NaN   \n",
       "26825368                               Total, youth charged    0.0   \n",
       "26825369  Rate, youth charged per 100,000 population age...    NaN   \n",
       "26825370                           Total, youth not charged    0.0   \n",
       "26825371  Rate, youth not charged per 100,000 population...    NaN   \n",
       "\n",
       "                                     City         Province  \n",
       "26825367  Canadian Pacific Railway Police   Quebec [24991]  \n",
       "26825368  Canadian Pacific Railway Police   Quebec [24991]  \n",
       "26825369  Canadian Pacific Railway Police   Quebec [24991]  \n",
       "26825370  Canadian Pacific Railway Police   Quebec [24991]  \n",
       "26825371  Canadian Pacific Railway Police   Quebec [24991]  "
      ]
     },
     "execution_count": 48,
     "metadata": {},
     "output_type": "execute_result"
    }
   ],
   "source": [
    "df3 = df2.drop(\"GEO\", axis=1)\n",
    "df3.tail()"
   ]
  },
  {
   "cell_type": "code",
   "execution_count": 49,
   "id": "9bd2db17",
   "metadata": {},
   "outputs": [
    {
     "data": {
      "text/plain": [
       " Quebec            57392\n",
       " Quebec [24991]      172\n",
       " Quebec [24990]      172\n",
       "Name: Province, dtype: int64"
      ]
     },
     "execution_count": 49,
     "metadata": {},
     "output_type": "execute_result"
    }
   ],
   "source": [
    "df3[\"Province\"].value_counts()"
   ]
  },
  {
   "cell_type": "code",
   "execution_count": 69,
   "id": "8d471d4e",
   "metadata": {},
   "outputs": [
    {
     "data": {
      "text/html": [
       "<div>\n",
       "<style scoped>\n",
       "    .dataframe tbody tr th:only-of-type {\n",
       "        vertical-align: middle;\n",
       "    }\n",
       "\n",
       "    .dataframe tbody tr th {\n",
       "        vertical-align: top;\n",
       "    }\n",
       "\n",
       "    .dataframe thead th {\n",
       "        text-align: right;\n",
       "    }\n",
       "</style>\n",
       "<table border=\"1\" class=\"dataframe\">\n",
       "  <thead>\n",
       "    <tr style=\"text-align: right;\">\n",
       "      <th></th>\n",
       "      <th>VALUE</th>\n",
       "    </tr>\n",
       "    <tr>\n",
       "      <th>City</th>\n",
       "      <th></th>\n",
       "    </tr>\n",
       "  </thead>\n",
       "  <tbody>\n",
       "    <tr>\n",
       "      <th>Montréal</th>\n",
       "      <td>106939.0</td>\n",
       "    </tr>\n",
       "    <tr>\n",
       "      <th>Québec</th>\n",
       "      <td>20029.0</td>\n",
       "    </tr>\n",
       "    <tr>\n",
       "      <th>Longueuil</th>\n",
       "      <td>17204.0</td>\n",
       "    </tr>\n",
       "  </tbody>\n",
       "</table>\n",
       "</div>"
      ],
      "text/plain": [
       "              VALUE\n",
       "City               \n",
       "Montréal   106939.0\n",
       "Québec      20029.0\n",
       "Longueuil   17204.0"
      ]
     },
     "execution_count": 69,
     "metadata": {},
     "output_type": "execute_result"
    }
   ],
   "source": [
    "df3[df3[\"Statistics\"] == \"Total, persons charged\"].drop(\"REF_DATE\", axis=1).groupby(\"City\").sum().sort_values(by=\"VALUE\", ascending=False)[1:4]"
   ]
  },
  {
   "cell_type": "markdown",
   "id": "647088d4",
   "metadata": {},
   "source": [
    "# Top N Cities Function"
   ]
  },
  {
   "cell_type": "code",
   "execution_count": 88,
   "id": "3999d9df",
   "metadata": {},
   "outputs": [],
   "source": [
    "def load_data(path, start_year=2008):\n",
    "    # Measure time\n",
    "    t0 = time.time() \n",
    "    \n",
    "    fields = [\"REF_DATE\", \"GEO\", \"Violations\", \"Statistics\", \"VALUE\"]\n",
    "    chunksize = 10 ** 3\n",
    "    iter_csv = pd.read_csv(path, skipinitialspace=True, usecols=fields, chunksize=chunksize)\n",
    "    \n",
    "    df = pd.concat([chunk[chunk[\"REF_DATE\"] > start_year] for chunk in iter_csv])\n",
    "    print(f\"\\n\\nTime taken to Load Data: {(time.time() - t0): .2f} s\\n\\n\")\n",
    "    return df"
   ]
  },
  {
   "cell_type": "code",
   "execution_count": 136,
   "id": "e66b23f2",
   "metadata": {},
   "outputs": [],
   "source": [
    "def get_top_cities(path=None, df=None, violation=None, statistic=None, start_year=2008, print_info=False, N=10, stat_summary=\"sum\"):\n",
    "    \"\"\"\n",
    "    Takes in path to the CSV file containing Canada Crime Statistics for a province and returns\n",
    "    3 cities with the highest crime according to he violation and statistic defined.\n",
    "    \"\"\"\n",
    "    # Measure time\n",
    "    t0 = time.time() \n",
    "    if violation is None:\n",
    "        violation = \"Total violent Criminal Code violations [100]\"\n",
    "        \n",
    "    if statistic is None:\n",
    "        statistic = \"Total, persons charged\"\n",
    "        \n",
    "    if df is None:\n",
    "        if path is None:\n",
    "            print(\"Input valid 'path' or 'dataframe'.\")\n",
    "        else:\n",
    "            df = load_data(path, start_year)\n",
    "    \n",
    "    print(f\"\\n\\nTime taken to Load Data: {(time.time() - t0): .2f} s\\n\\n\")\n",
    "    if print_info:\n",
    "        print(df.info())\n",
    "    \n",
    "    # Filter criminal violations\n",
    "    df2 = df[(df[\"Violations\"] == violation) & (df[\"Statistics\"] == statistic)]\n",
    "    \n",
    "    df2[[\"City\", \"Province\"]] = df2[\"GEO\"].str.split(',', expand=True)[[0, 1]]\n",
    "    \n",
    "    df3 = df2.drop(\"GEO\", axis=1)\n",
    "    \n",
    "    if stat_summary == \"sum\":\n",
    "        top_N = df3.drop(\"REF_DATE\", axis=1).groupby(\"City\").sum().sort_values(by=\"VALUE\", ascending=False)[:N]\n",
    "    elif stat_summary == \"mean\":\n",
    "        top_N = df3.drop(\"REF_DATE\", axis=1).groupby(\"City\").mean().sort_values(by=\"VALUE\", ascending=False)[:N]\n",
    "    \n",
    "    print(top_N)\n",
    "    \n",
    "    print(f\"\\n\\nTOTAL TIME TAKEN: {(time.time() - t0): .2f} s\")\n",
    "    return top_N, df3"
   ]
  },
  {
   "cell_type": "code",
   "execution_count": 135,
   "id": "1a85b410",
   "metadata": {},
   "outputs": [
    {
     "ename": "ParserError",
     "evalue": "Error tokenizing data. C error: Calling read(nbytes) on source failed. Try engine='python'.",
     "output_type": "error",
     "traceback": [
      "\u001b[1;31m---------------------------------------------------------------------------\u001b[0m",
      "\u001b[1;31mParserError\u001b[0m                               Traceback (most recent call last)",
      "\u001b[1;32m<ipython-input-135-1858da90ecc3>\u001b[0m in \u001b[0;36m<module>\u001b[1;34m\u001b[0m\n\u001b[1;32m----> 1\u001b[1;33m \u001b[0mdata_dict\u001b[0m \u001b[1;33m=\u001b[0m \u001b[1;33m{\u001b[0m\u001b[0mname\u001b[0m\u001b[1;33m:\u001b[0m \u001b[0mload_data\u001b[0m\u001b[1;33m(\u001b[0m\u001b[0mpath\u001b[0m\u001b[1;33m)\u001b[0m \u001b[1;32mfor\u001b[0m \u001b[0mname\u001b[0m\u001b[1;33m,\u001b[0m \u001b[0mpath\u001b[0m \u001b[1;32min\u001b[0m \u001b[0mlocation_dict\u001b[0m\u001b[1;33m.\u001b[0m\u001b[0mitems\u001b[0m\u001b[1;33m(\u001b[0m\u001b[1;33m)\u001b[0m\u001b[1;33m}\u001b[0m\u001b[1;33m\u001b[0m\u001b[1;33m\u001b[0m\u001b[0m\n\u001b[0m",
      "\u001b[1;32m<ipython-input-135-1858da90ecc3>\u001b[0m in \u001b[0;36m<dictcomp>\u001b[1;34m(.0)\u001b[0m\n\u001b[1;32m----> 1\u001b[1;33m \u001b[0mdata_dict\u001b[0m \u001b[1;33m=\u001b[0m \u001b[1;33m{\u001b[0m\u001b[0mname\u001b[0m\u001b[1;33m:\u001b[0m \u001b[0mload_data\u001b[0m\u001b[1;33m(\u001b[0m\u001b[0mpath\u001b[0m\u001b[1;33m)\u001b[0m \u001b[1;32mfor\u001b[0m \u001b[0mname\u001b[0m\u001b[1;33m,\u001b[0m \u001b[0mpath\u001b[0m \u001b[1;32min\u001b[0m \u001b[0mlocation_dict\u001b[0m\u001b[1;33m.\u001b[0m\u001b[0mitems\u001b[0m\u001b[1;33m(\u001b[0m\u001b[1;33m)\u001b[0m\u001b[1;33m}\u001b[0m\u001b[1;33m\u001b[0m\u001b[1;33m\u001b[0m\u001b[0m\n\u001b[0m",
      "\u001b[1;32m<ipython-input-88-e7c38ffce7c8>\u001b[0m in \u001b[0;36mload_data\u001b[1;34m(path, start_year)\u001b[0m\n\u001b[0;32m      7\u001b[0m     \u001b[0miter_csv\u001b[0m \u001b[1;33m=\u001b[0m \u001b[0mpd\u001b[0m\u001b[1;33m.\u001b[0m\u001b[0mread_csv\u001b[0m\u001b[1;33m(\u001b[0m\u001b[0mpath\u001b[0m\u001b[1;33m,\u001b[0m \u001b[0mskipinitialspace\u001b[0m\u001b[1;33m=\u001b[0m\u001b[1;32mTrue\u001b[0m\u001b[1;33m,\u001b[0m \u001b[0musecols\u001b[0m\u001b[1;33m=\u001b[0m\u001b[0mfields\u001b[0m\u001b[1;33m,\u001b[0m \u001b[0mchunksize\u001b[0m\u001b[1;33m=\u001b[0m\u001b[0mchunksize\u001b[0m\u001b[1;33m)\u001b[0m\u001b[1;33m\u001b[0m\u001b[1;33m\u001b[0m\u001b[0m\n\u001b[0;32m      8\u001b[0m \u001b[1;33m\u001b[0m\u001b[0m\n\u001b[1;32m----> 9\u001b[1;33m     \u001b[0mdf\u001b[0m \u001b[1;33m=\u001b[0m \u001b[0mpd\u001b[0m\u001b[1;33m.\u001b[0m\u001b[0mconcat\u001b[0m\u001b[1;33m(\u001b[0m\u001b[1;33m[\u001b[0m\u001b[0mchunk\u001b[0m\u001b[1;33m[\u001b[0m\u001b[0mchunk\u001b[0m\u001b[1;33m[\u001b[0m\u001b[1;34m\"REF_DATE\"\u001b[0m\u001b[1;33m]\u001b[0m \u001b[1;33m>\u001b[0m \u001b[0mstart_year\u001b[0m\u001b[1;33m]\u001b[0m \u001b[1;32mfor\u001b[0m \u001b[0mchunk\u001b[0m \u001b[1;32min\u001b[0m \u001b[0miter_csv\u001b[0m\u001b[1;33m]\u001b[0m\u001b[1;33m)\u001b[0m\u001b[1;33m\u001b[0m\u001b[1;33m\u001b[0m\u001b[0m\n\u001b[0m\u001b[0;32m     10\u001b[0m     \u001b[0mprint\u001b[0m\u001b[1;33m(\u001b[0m\u001b[1;34mf\"\\n\\nTime taken to Load Data: {(time.time() - t0): .2f} s\\n\\n\"\u001b[0m\u001b[1;33m)\u001b[0m\u001b[1;33m\u001b[0m\u001b[1;33m\u001b[0m\u001b[0m\n\u001b[0;32m     11\u001b[0m     \u001b[1;32mreturn\u001b[0m \u001b[0mdf\u001b[0m\u001b[1;33m\u001b[0m\u001b[1;33m\u001b[0m\u001b[0m\n",
      "\u001b[1;32m<ipython-input-88-e7c38ffce7c8>\u001b[0m in \u001b[0;36m<listcomp>\u001b[1;34m(.0)\u001b[0m\n\u001b[0;32m      7\u001b[0m     \u001b[0miter_csv\u001b[0m \u001b[1;33m=\u001b[0m \u001b[0mpd\u001b[0m\u001b[1;33m.\u001b[0m\u001b[0mread_csv\u001b[0m\u001b[1;33m(\u001b[0m\u001b[0mpath\u001b[0m\u001b[1;33m,\u001b[0m \u001b[0mskipinitialspace\u001b[0m\u001b[1;33m=\u001b[0m\u001b[1;32mTrue\u001b[0m\u001b[1;33m,\u001b[0m \u001b[0musecols\u001b[0m\u001b[1;33m=\u001b[0m\u001b[0mfields\u001b[0m\u001b[1;33m,\u001b[0m \u001b[0mchunksize\u001b[0m\u001b[1;33m=\u001b[0m\u001b[0mchunksize\u001b[0m\u001b[1;33m)\u001b[0m\u001b[1;33m\u001b[0m\u001b[1;33m\u001b[0m\u001b[0m\n\u001b[0;32m      8\u001b[0m \u001b[1;33m\u001b[0m\u001b[0m\n\u001b[1;32m----> 9\u001b[1;33m     \u001b[0mdf\u001b[0m \u001b[1;33m=\u001b[0m \u001b[0mpd\u001b[0m\u001b[1;33m.\u001b[0m\u001b[0mconcat\u001b[0m\u001b[1;33m(\u001b[0m\u001b[1;33m[\u001b[0m\u001b[0mchunk\u001b[0m\u001b[1;33m[\u001b[0m\u001b[0mchunk\u001b[0m\u001b[1;33m[\u001b[0m\u001b[1;34m\"REF_DATE\"\u001b[0m\u001b[1;33m]\u001b[0m \u001b[1;33m>\u001b[0m \u001b[0mstart_year\u001b[0m\u001b[1;33m]\u001b[0m \u001b[1;32mfor\u001b[0m \u001b[0mchunk\u001b[0m \u001b[1;32min\u001b[0m \u001b[0miter_csv\u001b[0m\u001b[1;33m]\u001b[0m\u001b[1;33m)\u001b[0m\u001b[1;33m\u001b[0m\u001b[1;33m\u001b[0m\u001b[0m\n\u001b[0m\u001b[0;32m     10\u001b[0m     \u001b[0mprint\u001b[0m\u001b[1;33m(\u001b[0m\u001b[1;34mf\"\\n\\nTime taken to Load Data: {(time.time() - t0): .2f} s\\n\\n\"\u001b[0m\u001b[1;33m)\u001b[0m\u001b[1;33m\u001b[0m\u001b[1;33m\u001b[0m\u001b[0m\n\u001b[0;32m     11\u001b[0m     \u001b[1;32mreturn\u001b[0m \u001b[0mdf\u001b[0m\u001b[1;33m\u001b[0m\u001b[1;33m\u001b[0m\u001b[0m\n",
      "\u001b[1;32m~\\anaconda3\\envs\\data-visualization\\lib\\site-packages\\pandas\\io\\parsers.py\u001b[0m in \u001b[0;36m__next__\u001b[1;34m(self)\u001b[0m\n\u001b[0;32m   1032\u001b[0m     \u001b[1;32mdef\u001b[0m \u001b[0m__next__\u001b[0m\u001b[1;33m(\u001b[0m\u001b[0mself\u001b[0m\u001b[1;33m)\u001b[0m\u001b[1;33m:\u001b[0m\u001b[1;33m\u001b[0m\u001b[1;33m\u001b[0m\u001b[0m\n\u001b[0;32m   1033\u001b[0m         \u001b[1;32mtry\u001b[0m\u001b[1;33m:\u001b[0m\u001b[1;33m\u001b[0m\u001b[1;33m\u001b[0m\u001b[0m\n\u001b[1;32m-> 1034\u001b[1;33m             \u001b[1;32mreturn\u001b[0m \u001b[0mself\u001b[0m\u001b[1;33m.\u001b[0m\u001b[0mget_chunk\u001b[0m\u001b[1;33m(\u001b[0m\u001b[1;33m)\u001b[0m\u001b[1;33m\u001b[0m\u001b[1;33m\u001b[0m\u001b[0m\n\u001b[0m\u001b[0;32m   1035\u001b[0m         \u001b[1;32mexcept\u001b[0m \u001b[0mStopIteration\u001b[0m\u001b[1;33m:\u001b[0m\u001b[1;33m\u001b[0m\u001b[1;33m\u001b[0m\u001b[0m\n\u001b[0;32m   1036\u001b[0m             \u001b[0mself\u001b[0m\u001b[1;33m.\u001b[0m\u001b[0mclose\u001b[0m\u001b[1;33m(\u001b[0m\u001b[1;33m)\u001b[0m\u001b[1;33m\u001b[0m\u001b[1;33m\u001b[0m\u001b[0m\n",
      "\u001b[1;32m~\\anaconda3\\envs\\data-visualization\\lib\\site-packages\\pandas\\io\\parsers.py\u001b[0m in \u001b[0;36mget_chunk\u001b[1;34m(self, size)\u001b[0m\n\u001b[0;32m   1082\u001b[0m                 \u001b[1;32mraise\u001b[0m \u001b[0mStopIteration\u001b[0m\u001b[1;33m\u001b[0m\u001b[1;33m\u001b[0m\u001b[0m\n\u001b[0;32m   1083\u001b[0m             \u001b[0msize\u001b[0m \u001b[1;33m=\u001b[0m \u001b[0mmin\u001b[0m\u001b[1;33m(\u001b[0m\u001b[0msize\u001b[0m\u001b[1;33m,\u001b[0m \u001b[0mself\u001b[0m\u001b[1;33m.\u001b[0m\u001b[0mnrows\u001b[0m \u001b[1;33m-\u001b[0m \u001b[0mself\u001b[0m\u001b[1;33m.\u001b[0m\u001b[0m_currow\u001b[0m\u001b[1;33m)\u001b[0m\u001b[1;33m\u001b[0m\u001b[1;33m\u001b[0m\u001b[0m\n\u001b[1;32m-> 1084\u001b[1;33m         \u001b[1;32mreturn\u001b[0m \u001b[0mself\u001b[0m\u001b[1;33m.\u001b[0m\u001b[0mread\u001b[0m\u001b[1;33m(\u001b[0m\u001b[0mnrows\u001b[0m\u001b[1;33m=\u001b[0m\u001b[0msize\u001b[0m\u001b[1;33m)\u001b[0m\u001b[1;33m\u001b[0m\u001b[1;33m\u001b[0m\u001b[0m\n\u001b[0m\u001b[0;32m   1085\u001b[0m \u001b[1;33m\u001b[0m\u001b[0m\n\u001b[0;32m   1086\u001b[0m     \u001b[1;32mdef\u001b[0m \u001b[0m__enter__\u001b[0m\u001b[1;33m(\u001b[0m\u001b[0mself\u001b[0m\u001b[1;33m)\u001b[0m\u001b[1;33m:\u001b[0m\u001b[1;33m\u001b[0m\u001b[1;33m\u001b[0m\u001b[0m\n",
      "\u001b[1;32m~\\anaconda3\\envs\\data-visualization\\lib\\site-packages\\pandas\\io\\parsers.py\u001b[0m in \u001b[0;36mread\u001b[1;34m(self, nrows)\u001b[0m\n\u001b[0;32m   1055\u001b[0m     \u001b[1;32mdef\u001b[0m \u001b[0mread\u001b[0m\u001b[1;33m(\u001b[0m\u001b[0mself\u001b[0m\u001b[1;33m,\u001b[0m \u001b[0mnrows\u001b[0m\u001b[1;33m=\u001b[0m\u001b[1;32mNone\u001b[0m\u001b[1;33m)\u001b[0m\u001b[1;33m:\u001b[0m\u001b[1;33m\u001b[0m\u001b[1;33m\u001b[0m\u001b[0m\n\u001b[0;32m   1056\u001b[0m         \u001b[0mnrows\u001b[0m \u001b[1;33m=\u001b[0m \u001b[0mvalidate_integer\u001b[0m\u001b[1;33m(\u001b[0m\u001b[1;34m\"nrows\"\u001b[0m\u001b[1;33m,\u001b[0m \u001b[0mnrows\u001b[0m\u001b[1;33m)\u001b[0m\u001b[1;33m\u001b[0m\u001b[1;33m\u001b[0m\u001b[0m\n\u001b[1;32m-> 1057\u001b[1;33m         \u001b[0mindex\u001b[0m\u001b[1;33m,\u001b[0m \u001b[0mcolumns\u001b[0m\u001b[1;33m,\u001b[0m \u001b[0mcol_dict\u001b[0m \u001b[1;33m=\u001b[0m \u001b[0mself\u001b[0m\u001b[1;33m.\u001b[0m\u001b[0m_engine\u001b[0m\u001b[1;33m.\u001b[0m\u001b[0mread\u001b[0m\u001b[1;33m(\u001b[0m\u001b[0mnrows\u001b[0m\u001b[1;33m)\u001b[0m\u001b[1;33m\u001b[0m\u001b[1;33m\u001b[0m\u001b[0m\n\u001b[0m\u001b[0;32m   1058\u001b[0m \u001b[1;33m\u001b[0m\u001b[0m\n\u001b[0;32m   1059\u001b[0m         \u001b[1;32mif\u001b[0m \u001b[0mindex\u001b[0m \u001b[1;32mis\u001b[0m \u001b[1;32mNone\u001b[0m\u001b[1;33m:\u001b[0m\u001b[1;33m\u001b[0m\u001b[1;33m\u001b[0m\u001b[0m\n",
      "\u001b[1;32m~\\anaconda3\\envs\\data-visualization\\lib\\site-packages\\pandas\\io\\parsers.py\u001b[0m in \u001b[0;36mread\u001b[1;34m(self, nrows)\u001b[0m\n\u001b[0;32m   2059\u001b[0m     \u001b[1;32mdef\u001b[0m \u001b[0mread\u001b[0m\u001b[1;33m(\u001b[0m\u001b[0mself\u001b[0m\u001b[1;33m,\u001b[0m \u001b[0mnrows\u001b[0m\u001b[1;33m=\u001b[0m\u001b[1;32mNone\u001b[0m\u001b[1;33m)\u001b[0m\u001b[1;33m:\u001b[0m\u001b[1;33m\u001b[0m\u001b[1;33m\u001b[0m\u001b[0m\n\u001b[0;32m   2060\u001b[0m         \u001b[1;32mtry\u001b[0m\u001b[1;33m:\u001b[0m\u001b[1;33m\u001b[0m\u001b[1;33m\u001b[0m\u001b[0m\n\u001b[1;32m-> 2061\u001b[1;33m             \u001b[0mdata\u001b[0m \u001b[1;33m=\u001b[0m \u001b[0mself\u001b[0m\u001b[1;33m.\u001b[0m\u001b[0m_reader\u001b[0m\u001b[1;33m.\u001b[0m\u001b[0mread\u001b[0m\u001b[1;33m(\u001b[0m\u001b[0mnrows\u001b[0m\u001b[1;33m)\u001b[0m\u001b[1;33m\u001b[0m\u001b[1;33m\u001b[0m\u001b[0m\n\u001b[0m\u001b[0;32m   2062\u001b[0m         \u001b[1;32mexcept\u001b[0m \u001b[0mStopIteration\u001b[0m\u001b[1;33m:\u001b[0m\u001b[1;33m\u001b[0m\u001b[1;33m\u001b[0m\u001b[0m\n\u001b[0;32m   2063\u001b[0m             \u001b[1;32mif\u001b[0m \u001b[0mself\u001b[0m\u001b[1;33m.\u001b[0m\u001b[0m_first_chunk\u001b[0m\u001b[1;33m:\u001b[0m\u001b[1;33m\u001b[0m\u001b[1;33m\u001b[0m\u001b[0m\n",
      "\u001b[1;32mpandas\\_libs\\parsers.pyx\u001b[0m in \u001b[0;36mpandas._libs.parsers.TextReader.read\u001b[1;34m()\u001b[0m\n",
      "\u001b[1;32mpandas\\_libs\\parsers.pyx\u001b[0m in \u001b[0;36mpandas._libs.parsers.TextReader._read_low_memory\u001b[1;34m()\u001b[0m\n",
      "\u001b[1;32mpandas\\_libs\\parsers.pyx\u001b[0m in \u001b[0;36mpandas._libs.parsers.TextReader._read_rows\u001b[1;34m()\u001b[0m\n",
      "\u001b[1;32mpandas\\_libs\\parsers.pyx\u001b[0m in \u001b[0;36mpandas._libs.parsers.TextReader._tokenize_rows\u001b[1;34m()\u001b[0m\n",
      "\u001b[1;32mpandas\\_libs\\parsers.pyx\u001b[0m in \u001b[0;36mpandas._libs.parsers.raise_parser_error\u001b[1;34m()\u001b[0m\n",
      "\u001b[1;31mParserError\u001b[0m: Error tokenizing data. C error: Calling read(nbytes) on source failed. Try engine='python'."
     ]
    }
   ],
   "source": [
    "data_dict = {name: load_data(path) for name, path in location_dict.items()}"
   ]
  },
  {
   "cell_type": "code",
   "execution_count": 137,
   "id": "2bc6cddc",
   "metadata": {},
   "outputs": [
    {
     "name": "stdout",
     "output_type": "stream",
     "text": [
      "\n",
      "\n",
      "Time taken to Load Data:  0.00 s\n",
      "\n",
      "\n",
      "                   VALUE\n",
      "City                    \n",
      "Quebec [24]     370896.0\n",
      "Montréal        106939.0\n",
      "Québec           20029.0\n",
      "Longueuil        17204.0\n",
      "Laval            16597.0\n",
      "Gatineau         14297.0\n",
      "Kativik Region   10601.0\n",
      "Sherbrooke        7037.0\n",
      "Saguenay          6499.0\n",
      "Trois-Rivières    5884.0\n",
      "\n",
      "\n",
      "TOTAL TIME TAKEN:  2.29 s\n"
     ]
    }
   ],
   "source": [
    "# Get top cities for Ontario\n",
    "quebec_3, quebec_df = get_top_cities(df=data_dict[\"quebec\"])"
   ]
  },
  {
   "cell_type": "code",
   "execution_count": 138,
   "id": "030c032f",
   "metadata": {},
   "outputs": [
    {
     "name": "stdout",
     "output_type": "stream",
     "text": [
      "\n",
      "\n",
      "Time taken to Load Data:  0.00 s\n",
      "\n",
      "\n",
      "                   VALUE\n",
      "City                    \n",
      "Quebec [24]     892829.0\n",
      "Montréal        246531.0\n",
      "Québec           56587.0\n",
      "Gatineau         43318.0\n",
      "Longueuil        40748.0\n",
      "Laval            40491.0\n",
      "Sherbrooke       26523.0\n",
      "Trois-Rivières   16857.0\n",
      "Saguenay         15964.0\n",
      "St. Jérôme       15071.0\n",
      "\n",
      "\n",
      "TOTAL TIME TAKEN:  2.14 s\n"
     ]
    }
   ],
   "source": [
    "# Get top cities for Ontario\n",
    "manitoba_3, manitoba_df = get_top_cities(df=data_dict[\"quebec\"], violation=\"Total, all Criminal Code violations (excluding traffic) [50]\")"
   ]
  },
  {
   "cell_type": "code",
   "execution_count": 139,
   "id": "c358a2d5",
   "metadata": {},
   "outputs": [
    {
     "name": "stdout",
     "output_type": "stream",
     "text": [
      "\n",
      "\n",
      "Time taken to Load Data:  0.00 s\n",
      "\n",
      "\n",
      "                    VALUE\n",
      "City                     \n",
      "Quebec [24]     1243642.0\n",
      "Montréal         300140.0\n",
      "Québec            78245.0\n",
      "Gatineau          60746.0\n",
      "Longueuil         54490.0\n",
      "Laval             53115.0\n",
      "Sherbrooke        34368.0\n",
      "Trois-Rivières    24707.0\n",
      "Saguenay          22361.0\n",
      "St. Jérôme        18982.0\n",
      "\n",
      "\n",
      "TOTAL TIME TAKEN:  2.25 s\n"
     ]
    }
   ],
   "source": [
    "# Get top cities for Ontario\n",
    "manitoba_3, manitoba_df = get_top_cities(df=data_dict[\"quebec\"], violation=\"Total, all violations [0]\")"
   ]
  },
  {
   "cell_type": "code",
   "execution_count": 152,
   "id": "c9a84f58",
   "metadata": {},
   "outputs": [
    {
     "name": "stdout",
     "output_type": "stream",
     "text": [
      "\n",
      "\n",
      "Time taken to Load Data:  0.00 s\n",
      "\n",
      "\n",
      "                                VALUE\n",
      "City                                 \n",
      "Waskaganish              17096.925000\n",
      "Lac Simon                16787.876364\n",
      "Kativik Region           15488.623636\n",
      "Chisasibi                11667.125000\n",
      "Waswanipi                11497.345000\n",
      "Uashat Mak Mani-Utenam   10584.535455\n",
      "Listuguj                 10525.263636\n",
      "Wemotaci                  9620.270000\n",
      "Mistissini                8878.760000\n",
      "Obedjiwan First Nations   8335.568182\n",
      "\n",
      "\n",
      "TOTAL TIME TAKEN:  2.09 s\n"
     ]
    }
   ],
   "source": [
    "# Get top cities for Ontario\n",
    "manitoba_3, manitoba_df = get_top_cities(df=data_dict[\"quebec\"], statistic=\"Rate per 100,000 population\", stat_summary=\"mean\")"
   ]
  },
  {
   "cell_type": "code",
   "execution_count": 140,
   "id": "2fc1645b",
   "metadata": {},
   "outputs": [
    {
     "name": "stdout",
     "output_type": "stream",
     "text": [
      "\n",
      "\n",
      "Time taken to Load Data:  0.00 s\n",
      "\n",
      "\n",
      "                                       VALUE\n",
      "City                                        \n",
      "Ontario [35]                        609104.0\n",
      "Toronto                             142630.0\n",
      "Peel Region (Mississauga/Brampton)   51038.0\n",
      "York Region                          27499.0\n",
      "Ottawa                               26379.0\n",
      "Durham Region (Oshawa/Whitby/Ajax)   23681.0\n",
      "London                               23059.0\n",
      "Hamilton                             21974.0\n",
      "Waterloo Region (Kitchener)          20837.0\n",
      "Niagara Region (St. Catharines)      15827.0\n",
      "\n",
      "\n",
      "TOTAL TIME TAKEN:  2.83 s\n"
     ]
    }
   ],
   "source": [
    "# Get top cities for Ontario\n",
    "ontario_3, ontario_df = get_top_cities(df=data_dict[\"ontario\"])"
   ]
  },
  {
   "cell_type": "code",
   "execution_count": 141,
   "id": "11fd7425",
   "metadata": {},
   "outputs": [
    {
     "name": "stdout",
     "output_type": "stream",
     "text": [
      "\n",
      "\n",
      "Time taken to Load Data:  0.00 s\n",
      "\n",
      "\n",
      "                                        VALUE\n",
      "City                                         \n",
      "Ontario [35]                        1718505.0\n",
      "Toronto                              328877.0\n",
      "Peel Region (Mississauga/Brampton)   133002.0\n",
      "Ottawa                                93927.0\n",
      "London                                87458.0\n",
      "Waterloo Region (Kitchener)           82180.0\n",
      "York Region                           74532.0\n",
      "Durham Region (Oshawa/Whitby/Ajax)    71757.0\n",
      "Hamilton                              62784.0\n",
      "Niagara Region (St. Catharines)       51158.0\n",
      "\n",
      "\n",
      "TOTAL TIME TAKEN:  3.26 s\n"
     ]
    }
   ],
   "source": [
    "# Get top cities for Ontario\n",
    "manitoba_3, manitoba_df = get_top_cities(df=data_dict[\"ontario\"], violation=\"Total, all Criminal Code violations (excluding traffic) [50]\")"
   ]
  },
  {
   "cell_type": "code",
   "execution_count": 142,
   "id": "caf9a564",
   "metadata": {},
   "outputs": [
    {
     "name": "stdout",
     "output_type": "stream",
     "text": [
      "\n",
      "\n",
      "Time taken to Load Data:  0.00 s\n",
      "\n",
      "\n",
      "                                        VALUE\n",
      "City                                         \n",
      "Ontario [35]                        2207421.0\n",
      "Toronto                              387940.0\n",
      "Peel Region (Mississauga/Brampton)   175359.0\n",
      "Ottawa                               115464.0\n",
      "York Region                          105985.0\n",
      "Waterloo Region (Kitchener)           99692.0\n",
      "London                                98792.0\n",
      "Durham Region (Oshawa/Whitby/Ajax)    96095.0\n",
      "Hamilton                              81609.0\n",
      "Niagara Region (St. Catharines)       64267.0\n",
      "\n",
      "\n",
      "TOTAL TIME TAKEN:  2.69 s\n"
     ]
    }
   ],
   "source": [
    "# Get top cities for Ontario\n",
    "manitoba_3, manitoba_df = get_top_cities(df=data_dict[\"ontario\"], violation=\"Total, all violations [0]\")"
   ]
  },
  {
   "cell_type": "code",
   "execution_count": 153,
   "id": "73943d4e",
   "metadata": {},
   "outputs": [
    {
     "name": "stdout",
     "output_type": "stream",
     "text": [
      "\n",
      "\n",
      "Time taken to Load Data:  0.00 s\n",
      "\n",
      "\n",
      "                                              VALUE\n",
      "City                                               \n",
      "Treaty Three Communities               14019.265455\n",
      "Lac Seul                               12188.130000\n",
      "Wikwemikong                             8028.390909\n",
      "UCCM Anishnaabe                         7556.564545\n",
      "Nishnawbe-Aski Nation                   6710.301818\n",
      "Lambton (Walpole Island First Nation)   6334.155455\n",
      "Sioux Lookout (Sioux Lookout)           5860.010000\n",
      "Six Nations                             4373.547273\n",
      "Sioux Lookout                           3533.258182\n",
      "Dryden (Ignace)                         3513.312727\n",
      "\n",
      "\n",
      "TOTAL TIME TAKEN:  2.55 s\n"
     ]
    }
   ],
   "source": [
    "# Get top cities for Ontario\n",
    "manitoba_3, manitoba_df = get_top_cities(df=data_dict[\"ontario\"], statistic=\"Rate per 100,000 population\", stat_summary=\"mean\")"
   ]
  },
  {
   "cell_type": "code",
   "execution_count": 143,
   "id": "a35d0437",
   "metadata": {},
   "outputs": [
    {
     "name": "stdout",
     "output_type": "stream",
     "text": [
      "\n",
      "\n",
      "Time taken to Load Data:  0.00 s\n",
      "\n",
      "\n",
      "                                          VALUE\n",
      "City                                           \n",
      "Manitoba [46]                          125113.0\n",
      "Winnipeg                                50069.0\n",
      "Thompson                                 6442.0\n",
      "Manitoba First Nations Police Service    5492.0\n",
      "Brandon                                  4013.0\n",
      "Norway House                             2899.0\n",
      "Cross Lake                               2789.0\n",
      "Portage la Prairie                       2618.0\n",
      "Powerview                                2566.0\n",
      "Nisichawayasihk (Nelson House)           2361.0\n",
      "\n",
      "\n",
      "TOTAL TIME TAKEN:  1.28 s\n"
     ]
    }
   ],
   "source": [
    "# Get top cities for Ontario\n",
    "manitoba_3, manitoba_df = get_top_cities(df=data_dict[\"manitoba\"])"
   ]
  },
  {
   "cell_type": "code",
   "execution_count": 144,
   "id": "32999153",
   "metadata": {},
   "outputs": [
    {
     "name": "stdout",
     "output_type": "stream",
     "text": [
      "\n",
      "\n",
      "Time taken to Load Data:  0.00 s\n",
      "\n",
      "\n",
      "                                          VALUE\n",
      "City                                           \n",
      "Manitoba [46]                          305935.0\n",
      "Winnipeg                               139050.0\n",
      "Brandon                                 15265.0\n",
      "Thompson                                15136.0\n",
      "Manitoba First Nations Police Service   11822.0\n",
      "Portage la Prairie                       7691.0\n",
      "Powerview                                5504.0\n",
      "Norway House                             5247.0\n",
      "Selkirk                                  5205.0\n",
      "The Pas                                  4757.0\n",
      "\n",
      "\n",
      "TOTAL TIME TAKEN:  1.06 s\n"
     ]
    }
   ],
   "source": [
    "# Get top cities for Ontario\n",
    "manitoba_3, manitoba_df = get_top_cities(df=data_dict[\"manitoba\"], violation=\"Total, all Criminal Code violations (excluding traffic) [50]\")"
   ]
  },
  {
   "cell_type": "code",
   "execution_count": 145,
   "id": "64a3388e",
   "metadata": {},
   "outputs": [
    {
     "name": "stdout",
     "output_type": "stream",
     "text": [
      "\n",
      "\n",
      "Time taken to Load Data:  0.00 s\n",
      "\n",
      "\n",
      "                                          VALUE\n",
      "City                                           \n",
      "Manitoba [46]                          365146.0\n",
      "Winnipeg                               160349.0\n",
      "Brandon                                 18656.0\n",
      "Thompson                                17482.0\n",
      "Manitoba First Nations Police Service   13067.0\n",
      "Portage la Prairie                       9234.0\n",
      "Selkirk                                  7297.0\n",
      "Powerview                                6346.0\n",
      "Norway House                             6284.0\n",
      "The Pas                                  5897.0\n",
      "\n",
      "\n",
      "TOTAL TIME TAKEN:  0.96 s\n"
     ]
    }
   ],
   "source": [
    "# Get top cities for Ontario\n",
    "manitoba_3, manitoba_df = get_top_cities(df=data_dict[\"manitoba\"], violation=\"Total, all violations [0]\")"
   ]
  },
  {
   "cell_type": "code",
   "execution_count": 154,
   "id": "e1f72404",
   "metadata": {},
   "outputs": [
    {
     "name": "stdout",
     "output_type": "stream",
     "text": [
      "\n",
      "\n",
      "Time taken to Load Data:  0.00 s\n",
      "\n",
      "\n",
      "                                              VALUE\n",
      "City                                               \n",
      "Shamattawa                             28825.457778\n",
      "Little Grand Rapids                    22707.489091\n",
      "Leaf Rapids                            22445.480000\n",
      "Nisichawayasihk (Nelson House)         20164.500000\n",
      "Manitoba First Nations Police Service  18374.299091\n",
      "Pukatawagan                            15713.926364\n",
      "Norway House                           13652.091818\n",
      "Grand Rapids                           13399.896364\n",
      "Moose Lake                             13359.309091\n",
      "Cross Lake                             12794.326364\n",
      "\n",
      "\n",
      "TOTAL TIME TAKEN:  1.04 s\n"
     ]
    }
   ],
   "source": [
    "# Get top cities for Ontario\n",
    "manitoba_3, manitoba_df = get_top_cities(df=data_dict[\"manitoba\"], statistic=\"Rate per 100,000 population\", stat_summary=\"mean\")"
   ]
  },
  {
   "cell_type": "code",
   "execution_count": 146,
   "id": "c1c3c238",
   "metadata": {},
   "outputs": [
    {
     "name": "stdout",
     "output_type": "stream",
     "text": [
      "\n",
      "\n",
      "Time taken to Load Data:  0.00 s\n",
      "\n",
      "\n",
      "                                VALUE\n",
      "City                                 \n",
      "Lac Simon                32205.069091\n",
      "Waskaganish              31724.165000\n",
      "Kativik Region           27893.947273\n",
      "Waswanipi                26554.780000\n",
      "Listuguj                 25283.026364\n",
      "Uashat Mak Mani-Utenam   24870.878182\n",
      "Chisasibi                23494.390000\n",
      "Mistissini               19700.680000\n",
      "Wemotaci                 18265.579091\n",
      "Obedjiwan First Nations  16873.059091\n",
      "\n",
      "\n",
      "TOTAL TIME TAKEN:  2.01 s\n"
     ]
    }
   ],
   "source": [
    "# Get top cities for Ontario\n",
    "manitoba_3, manitoba_df = get_top_cities(df=data_dict[\"quebec\"], violation=\"Total, all violations [0]\", statistic=\"Rate per 100,000 population\", stat_summary=\"mean\")"
   ]
  },
  {
   "cell_type": "code",
   "execution_count": 147,
   "id": "cdfd4b43",
   "metadata": {},
   "outputs": [
    {
     "name": "stdout",
     "output_type": "stream",
     "text": [
      "\n",
      "\n",
      "Time taken to Load Data:  0.00 s\n",
      "\n",
      "\n",
      "                                              VALUE\n",
      "City                                               \n",
      "Treaty Three Communities               33567.449091\n",
      "Wikwemikong                            30631.083636\n",
      "Lambton (Walpole Island First Nation)  28416.296364\n",
      "Lac Seul                               26242.177500\n",
      "Nishnawbe-Aski Nation                  22849.824545\n",
      "UCCM Anishnaabe                        21510.849091\n",
      "Six Nations                            17278.954545\n",
      "Sioux Lookout (Sioux Lookout)          15988.420000\n",
      "Dryden (Ignace)                        12873.065455\n",
      "West Parry Sound (Parry Sound)         11917.180000\n",
      "\n",
      "\n",
      "TOTAL TIME TAKEN:  3.13 s\n"
     ]
    }
   ],
   "source": [
    "# Get top cities for Ontario\n",
    "manitoba_3, manitoba_df = get_top_cities(df=data_dict[\"ontario\"], violation=\"Total, all violations [0]\", statistic=\"Rate per 100,000 population\", stat_summary=\"mean\")"
   ]
  },
  {
   "cell_type": "code",
   "execution_count": 148,
   "id": "c9340a94",
   "metadata": {},
   "outputs": [
    {
     "name": "stdout",
     "output_type": "stream",
     "text": [
      "\n",
      "\n",
      "Time taken to Load Data:  0.00 s\n",
      "\n",
      "\n",
      "                                              VALUE\n",
      "City                                               \n",
      "Shamattawa                             81804.131111\n",
      "Nisichawayasihk (Nelson House)         70274.763636\n",
      "Little Grand Rapids                    65005.410909\n",
      "Leaf Rapids                            62269.447273\n",
      "Manitoba First Nations Police Service  55755.268182\n",
      "Moose Lake                             53623.074545\n",
      "Norway House                           49817.764545\n",
      "Pukatawagan                            49539.357273\n",
      "Cross Lake                             47040.295455\n",
      "Berens River                           46220.349091\n",
      "\n",
      "\n",
      "TOTAL TIME TAKEN:  1.22 s\n"
     ]
    }
   ],
   "source": [
    "# Get top cities for Ontario\n",
    "manitoba_3, manitoba_df = get_top_cities(df=data_dict[\"manitoba\"], violation=\"Total, all violations [0]\", statistic=\"Rate per 100,000 population\", stat_summary=\"mean\")"
   ]
  },
  {
   "cell_type": "code",
   "execution_count": 149,
   "id": "2825d3d7",
   "metadata": {},
   "outputs": [
    {
     "name": "stdout",
     "output_type": "stream",
     "text": [
      "\n",
      "\n",
      "Time taken to Load Data:  0.00 s\n",
      "\n",
      "\n",
      "                                VALUE\n",
      "City                                 \n",
      "Waskaganish              17096.925000\n",
      "Lac Simon                16787.876364\n",
      "Kativik Region           15488.623636\n",
      "Chisasibi                11667.125000\n",
      "Waswanipi                11497.345000\n",
      "Uashat Mak Mani-Utenam   10584.535455\n",
      "Listuguj                 10525.263636\n",
      "Wemotaci                  9620.270000\n",
      "Mistissini                8878.760000\n",
      "Obedjiwan First Nations   8335.568182\n",
      "\n",
      "\n",
      "TOTAL TIME TAKEN:  2.20 s\n"
     ]
    }
   ],
   "source": [
    "# Get top cities for Ontario\n",
    "manitoba_3, manitoba_df = get_top_cities(df=data_dict[\"quebec\"], statistic=\"Rate per 100,000 population\", stat_summary=\"mean\")"
   ]
  },
  {
   "cell_type": "code",
   "execution_count": 150,
   "id": "c9428b11",
   "metadata": {},
   "outputs": [
    {
     "name": "stdout",
     "output_type": "stream",
     "text": [
      "\n",
      "\n",
      "Time taken to Load Data:  0.00 s\n",
      "\n",
      "\n",
      "                                              VALUE\n",
      "City                                               \n",
      "Treaty Three Communities               14019.265455\n",
      "Lac Seul                               12188.130000\n",
      "Wikwemikong                             8028.390909\n",
      "UCCM Anishnaabe                         7556.564545\n",
      "Nishnawbe-Aski Nation                   6710.301818\n",
      "Lambton (Walpole Island First Nation)   6334.155455\n",
      "Sioux Lookout (Sioux Lookout)           5860.010000\n",
      "Six Nations                             4373.547273\n",
      "Sioux Lookout                           3533.258182\n",
      "Dryden (Ignace)                         3513.312727\n",
      "\n",
      "\n",
      "TOTAL TIME TAKEN:  3.01 s\n"
     ]
    }
   ],
   "source": [
    "# Get top cities for Ontario\n",
    "manitoba_3, manitoba_df = get_top_cities(df=data_dict[\"ontario\"], statistic=\"Rate per 100,000 population\", stat_summary=\"mean\")"
   ]
  },
  {
   "cell_type": "code",
   "execution_count": 151,
   "id": "429375d1",
   "metadata": {},
   "outputs": [
    {
     "name": "stdout",
     "output_type": "stream",
     "text": [
      "\n",
      "\n",
      "Time taken to Load Data:  0.00 s\n",
      "\n",
      "\n",
      "                                              VALUE\n",
      "City                                               \n",
      "Shamattawa                             28825.457778\n",
      "Little Grand Rapids                    22707.489091\n",
      "Leaf Rapids                            22445.480000\n",
      "Nisichawayasihk (Nelson House)         20164.500000\n",
      "Manitoba First Nations Police Service  18374.299091\n",
      "Pukatawagan                            15713.926364\n",
      "Norway House                           13652.091818\n",
      "Grand Rapids                           13399.896364\n",
      "Moose Lake                             13359.309091\n",
      "Cross Lake                             12794.326364\n",
      "\n",
      "\n",
      "TOTAL TIME TAKEN:  1.02 s\n"
     ]
    }
   ],
   "source": [
    "# Get top cities for Ontario\n",
    "manitoba_3, manitoba_df = get_top_cities(df=data_dict[\"manitoba\"], statistic=\"Rate per 100,000 population\", stat_summary=\"mean\")"
   ]
  },
  {
   "cell_type": "code",
   "execution_count": null,
   "id": "efd552c9",
   "metadata": {},
   "outputs": [],
   "source": []
  }
 ],
 "metadata": {
  "kernelspec": {
   "display_name": "Python 3",
   "language": "python",
   "name": "python3"
  },
  "language_info": {
   "codemirror_mode": {
    "name": "ipython",
    "version": 3
   },
   "file_extension": ".py",
   "mimetype": "text/x-python",
   "name": "python",
   "nbconvert_exporter": "python",
   "pygments_lexer": "ipython3",
   "version": "3.8.10"
  }
 },
 "nbformat": 4,
 "nbformat_minor": 5
}
